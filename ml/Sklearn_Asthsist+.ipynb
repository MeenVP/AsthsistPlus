{
  "nbformat": 4,
  "nbformat_minor": 0,
  "metadata": {
    "colab": {
      "provenance": [],
      "gpuType": "V28"
    },
    "kernelspec": {
      "name": "python3",
      "display_name": "Python 3"
    },
    "language_info": {
      "name": "python"
    },
    "accelerator": "TPU"
  },
  "cells": [
    {
      "cell_type": "code",
      "execution_count": null,
      "metadata": {
        "colab": {
          "base_uri": "https://localhost:8080/"
        },
        "id": "L--GlOWHQboN",
        "outputId": "41dabcb2-2556-497b-8fca-d07a0ef51883"
      },
      "outputs": [
        {
          "output_type": "execute_result",
          "data": {
            "text/plain": [
              "pef_zone\n",
              "0    587\n",
              "1    384\n",
              "2     16\n",
              "Name: count, dtype: int64"
            ]
          },
          "metadata": {},
          "execution_count": 1
        }
      ],
      "source": [
        "import numpy as np\n",
        "import matplotlib.pyplot as plt\n",
        "import pandas as pd\n",
        "from sklearn import preprocessing\n",
        "from sklearn.model_selection import train_test_split\n",
        "from sklearn.neighbors import KNeighborsClassifier\n",
        "from sklearn.metrics import roc_auc_score\n",
        "dataset = pd.read_csv('/content/drive/MyDrive/Dataset/Clean_data_2.csv')\n",
        "dataset = dataset.dropna()\n",
        "dataset.shape\n",
        "dataset['pef_zone'].value_counts()"
      ]
    },
    {
      "cell_type": "code",
      "source": [
        "from sklearn.utils import resample\n",
        "\n",
        "# Separate the classes into different DataFrames.\n",
        "df_green = dataset[dataset['pef_zone']==0]\n",
        "df_yellow = dataset[dataset['pef_zone']==1]\n",
        "df_red = dataset[dataset['pef_zone']==2]\n",
        "# Upsample minority class.\n",
        "df_green_downsampled = resample(df_green,\n",
        "                            replace=True,     # sample with replacement\n",
        "                            n_samples=300,    # to match majority class\n",
        "                            random_state=123)\n",
        "df_red_upsampled = resample(df_red,\n",
        "                            replace=True,     # sample with replacement\n",
        "                            n_samples=300,    # to match majority class\n",
        "                            random_state=123) # reproducible results\n",
        "\n",
        "df_yellow_upsampled = resample(df_yellow,\n",
        "                            replace=True,     # sample with replacement\n",
        "                            n_samples=200,    # to match majority class\n",
        "                            random_state=123) # reproducible results\n",
        "\n",
        "# Combine majority class with upsampled minority class.\n",
        "df_upsampled = pd.concat([df_green_downsampled, df_yellow, df_red_upsampled])\n",
        "\n",
        "# Display new class counts.\n",
        "df_upsampled['pef_zone'].value_counts()"
      ],
      "metadata": {
        "colab": {
          "base_uri": "https://localhost:8080/"
        },
        "id": "xiO5Ywp7X79K",
        "outputId": "692ca84a-9cb5-406f-85f5-9aee6e149ff1"
      },
      "execution_count": null,
      "outputs": [
        {
          "output_type": "execute_result",
          "data": {
            "text/plain": [
              "pef_zone\n",
              "1    384\n",
              "0    300\n",
              "2    300\n",
              "Name: count, dtype: int64"
            ]
          },
          "metadata": {},
          "execution_count": 2
        }
      ]
    },
    {
      "cell_type": "code",
      "source": [
        "dataset=df_upsampled\n",
        "X = dataset.drop(columns=['user_key','date','pef_max','pef_zone','severity','Right_activity_type'])\n",
        "y = dataset['pef_zone']\n",
        "train_X, test_X, train_y, test_y = train_test_split(X, y, train_size=0.8, test_size=0.2, random_state=123)"
      ],
      "metadata": {
        "id": "VpblmRhORduw"
      },
      "execution_count": null,
      "outputs": []
    },
    {
      "cell_type": "code",
      "source": [
        "X.head"
      ],
      "metadata": {
        "id": "o9pwsn4zRfIj",
        "colab": {
          "base_uri": "https://localhost:8080/",
          "height": 186
        },
        "outputId": "31328c30-f816-4592-b60b-b9c46cab1bc5"
      },
      "execution_count": null,
      "outputs": [
        {
          "output_type": "execute_result",
          "data": {
            "text/plain": [
              "<bound method NDFrame.head of      sex  age_range  bmi_range  smoker  pef_best  hour  temperature  humidity  \\\n",
              "829    1          1          1       0       580     5        13.91        87   \n",
              "649    0          2          2       0       450     9        19.66        79   \n",
              "666    0          2          2       0       450     7        14.33        84   \n",
              "604    0          3          3       1       325     9         9.97        87   \n",
              "297    0          3          3       0       450    17        12.86        91   \n",
              "..   ...        ...        ...     ...       ...   ...          ...       ...   \n",
              "122    1          3          2       1       575     9         5.04        87   \n",
              "13     1          3          2       1       575     7        16.25        92   \n",
              "116    1          3          2       1       575     7         8.43        91   \n",
              "22     1          3          2       1       575    16        12.30        81   \n",
              "15     1          3          2       1       575     7        15.47        92   \n",
              "\n",
              "     aqi   no2   so2  pm2_5  inhaler     Avg_hr  Sum_steps  \n",
              "829  1.0  7.45  0.93   3.47        1  92.666667       3580  \n",
              "649  1.0  3.77  1.34   1.88        1  89.850000       1476  \n",
              "666  1.0  5.83  1.04   3.82        1  64.783333        216  \n",
              "604  1.0  4.54  1.34   4.09        1  56.600000          0  \n",
              "297  1.0  6.60  1.24   2.40        2  91.367347         24  \n",
              "..   ...   ...   ...    ...      ...        ...        ...  \n",
              "122  1.0  6.43  1.30   8.19        1  98.383333       1314  \n",
              "13   1.0  7.28  1.70   6.42        1  73.800000         11  \n",
              "116  1.0  3.13  0.75   1.83        1  78.683333        292  \n",
              "22   2.0  6.51  1.18  19.86        1  83.311111       1057  \n",
              "15   1.0  5.57  2.09   5.01        1  88.666667        470  \n",
              "\n",
              "[984 rows x 15 columns]>"
            ],
            "text/html": [
              "<div style=\"max-width:800px; border: 1px solid var(--colab-border-color);\"><style>\n",
              "      pre.function-repr-contents {\n",
              "        overflow-x: auto;\n",
              "        padding: 8px 12px;\n",
              "        max-height: 500px;\n",
              "      }\n",
              "\n",
              "      pre.function-repr-contents.function-repr-contents-collapsed {\n",
              "        cursor: pointer;\n",
              "        max-height: 100px;\n",
              "      }\n",
              "    </style>\n",
              "    <pre style=\"white-space: initial; background:\n",
              "         var(--colab-secondary-surface-color); padding: 8px 12px;\n",
              "         border-bottom: 1px solid var(--colab-border-color);\"><b>pandas.core.generic.NDFrame.head</b><br/>def head(n: int=5) -&gt; NDFrameT</pre><pre class=\"function-repr-contents function-repr-contents-collapsed\" style=\"\"><a class=\"filepath\" style=\"display:none\" href=\"#\">/usr/local/lib/python3.10/dist-packages/pandas/core/generic.py</a>Return the first `n` rows.\n",
              "\n",
              "This function returns the first `n` rows for the object based\n",
              "on position. It is useful for quickly testing if your object\n",
              "has the right type of data in it.\n",
              "\n",
              "For negative values of `n`, this function returns all rows except\n",
              "the last `|n|` rows, equivalent to ``df[:n]``.\n",
              "\n",
              "If n is larger than the number of rows, this function returns all rows.\n",
              "\n",
              "Parameters\n",
              "----------\n",
              "n : int, default 5\n",
              "    Number of rows to select.\n",
              "\n",
              "Returns\n",
              "-------\n",
              "same type as caller\n",
              "    The first `n` rows of the caller object.\n",
              "\n",
              "See Also\n",
              "--------\n",
              "DataFrame.tail: Returns the last `n` rows.\n",
              "\n",
              "Examples\n",
              "--------\n",
              "&gt;&gt;&gt; df = pd.DataFrame({&#x27;animal&#x27;: [&#x27;alligator&#x27;, &#x27;bee&#x27;, &#x27;falcon&#x27;, &#x27;lion&#x27;,\n",
              "...                    &#x27;monkey&#x27;, &#x27;parrot&#x27;, &#x27;shark&#x27;, &#x27;whale&#x27;, &#x27;zebra&#x27;]})\n",
              "&gt;&gt;&gt; df\n",
              "      animal\n",
              "0  alligator\n",
              "1        bee\n",
              "2     falcon\n",
              "3       lion\n",
              "4     monkey\n",
              "5     parrot\n",
              "6      shark\n",
              "7      whale\n",
              "8      zebra\n",
              "\n",
              "Viewing the first 5 lines\n",
              "\n",
              "&gt;&gt;&gt; df.head()\n",
              "      animal\n",
              "0  alligator\n",
              "1        bee\n",
              "2     falcon\n",
              "3       lion\n",
              "4     monkey\n",
              "\n",
              "Viewing the first `n` lines (three in this case)\n",
              "\n",
              "&gt;&gt;&gt; df.head(3)\n",
              "      animal\n",
              "0  alligator\n",
              "1        bee\n",
              "2     falcon\n",
              "\n",
              "For negative values of `n`\n",
              "\n",
              "&gt;&gt;&gt; df.head(-3)\n",
              "      animal\n",
              "0  alligator\n",
              "1        bee\n",
              "2     falcon\n",
              "3       lion\n",
              "4     monkey\n",
              "5     parrot</pre>\n",
              "      <script>\n",
              "      if (google.colab.kernel.accessAllowed && google.colab.files && google.colab.files.view) {\n",
              "        for (const element of document.querySelectorAll('.filepath')) {\n",
              "          element.style.display = 'block'\n",
              "          element.onclick = (event) => {\n",
              "            event.preventDefault();\n",
              "            event.stopPropagation();\n",
              "            google.colab.files.view(element.textContent, 5559);\n",
              "          };\n",
              "        }\n",
              "      }\n",
              "      for (const element of document.querySelectorAll('.function-repr-contents')) {\n",
              "        element.onclick = (event) => {\n",
              "          event.preventDefault();\n",
              "          event.stopPropagation();\n",
              "          element.classList.toggle('function-repr-contents-collapsed');\n",
              "        };\n",
              "      }\n",
              "      </script>\n",
              "      </div>"
            ]
          },
          "metadata": {},
          "execution_count": 4
        }
      ]
    },
    {
      "cell_type": "code",
      "source": [
        "neigh = KNeighborsClassifier(n_neighbors=3, n_jobs=-1)\n",
        "neigh.fit(train_X, train_y)\n"
      ],
      "metadata": {
        "colab": {
          "base_uri": "https://localhost:8080/",
          "height": 74
        },
        "id": "zAy9c_DlRgA8",
        "outputId": "549537e4-9cdb-43ad-d4af-63939f982d70"
      },
      "execution_count": null,
      "outputs": [
        {
          "output_type": "execute_result",
          "data": {
            "text/plain": [
              "KNeighborsClassifier(n_jobs=-1, n_neighbors=3)"
            ],
            "text/html": [
              "<style>#sk-container-id-1 {color: black;background-color: white;}#sk-container-id-1 pre{padding: 0;}#sk-container-id-1 div.sk-toggleable {background-color: white;}#sk-container-id-1 label.sk-toggleable__label {cursor: pointer;display: block;width: 100%;margin-bottom: 0;padding: 0.3em;box-sizing: border-box;text-align: center;}#sk-container-id-1 label.sk-toggleable__label-arrow:before {content: \"▸\";float: left;margin-right: 0.25em;color: #696969;}#sk-container-id-1 label.sk-toggleable__label-arrow:hover:before {color: black;}#sk-container-id-1 div.sk-estimator:hover label.sk-toggleable__label-arrow:before {color: black;}#sk-container-id-1 div.sk-toggleable__content {max-height: 0;max-width: 0;overflow: hidden;text-align: left;background-color: #f0f8ff;}#sk-container-id-1 div.sk-toggleable__content pre {margin: 0.2em;color: black;border-radius: 0.25em;background-color: #f0f8ff;}#sk-container-id-1 input.sk-toggleable__control:checked~div.sk-toggleable__content {max-height: 200px;max-width: 100%;overflow: auto;}#sk-container-id-1 input.sk-toggleable__control:checked~label.sk-toggleable__label-arrow:before {content: \"▾\";}#sk-container-id-1 div.sk-estimator input.sk-toggleable__control:checked~label.sk-toggleable__label {background-color: #d4ebff;}#sk-container-id-1 div.sk-label input.sk-toggleable__control:checked~label.sk-toggleable__label {background-color: #d4ebff;}#sk-container-id-1 input.sk-hidden--visually {border: 0;clip: rect(1px 1px 1px 1px);clip: rect(1px, 1px, 1px, 1px);height: 1px;margin: -1px;overflow: hidden;padding: 0;position: absolute;width: 1px;}#sk-container-id-1 div.sk-estimator {font-family: monospace;background-color: #f0f8ff;border: 1px dotted black;border-radius: 0.25em;box-sizing: border-box;margin-bottom: 0.5em;}#sk-container-id-1 div.sk-estimator:hover {background-color: #d4ebff;}#sk-container-id-1 div.sk-parallel-item::after {content: \"\";width: 100%;border-bottom: 1px solid gray;flex-grow: 1;}#sk-container-id-1 div.sk-label:hover label.sk-toggleable__label {background-color: #d4ebff;}#sk-container-id-1 div.sk-serial::before {content: \"\";position: absolute;border-left: 1px solid gray;box-sizing: border-box;top: 0;bottom: 0;left: 50%;z-index: 0;}#sk-container-id-1 div.sk-serial {display: flex;flex-direction: column;align-items: center;background-color: white;padding-right: 0.2em;padding-left: 0.2em;position: relative;}#sk-container-id-1 div.sk-item {position: relative;z-index: 1;}#sk-container-id-1 div.sk-parallel {display: flex;align-items: stretch;justify-content: center;background-color: white;position: relative;}#sk-container-id-1 div.sk-item::before, #sk-container-id-1 div.sk-parallel-item::before {content: \"\";position: absolute;border-left: 1px solid gray;box-sizing: border-box;top: 0;bottom: 0;left: 50%;z-index: -1;}#sk-container-id-1 div.sk-parallel-item {display: flex;flex-direction: column;z-index: 1;position: relative;background-color: white;}#sk-container-id-1 div.sk-parallel-item:first-child::after {align-self: flex-end;width: 50%;}#sk-container-id-1 div.sk-parallel-item:last-child::after {align-self: flex-start;width: 50%;}#sk-container-id-1 div.sk-parallel-item:only-child::after {width: 0;}#sk-container-id-1 div.sk-dashed-wrapped {border: 1px dashed gray;margin: 0 0.4em 0.5em 0.4em;box-sizing: border-box;padding-bottom: 0.4em;background-color: white;}#sk-container-id-1 div.sk-label label {font-family: monospace;font-weight: bold;display: inline-block;line-height: 1.2em;}#sk-container-id-1 div.sk-label-container {text-align: center;}#sk-container-id-1 div.sk-container {/* jupyter's `normalize.less` sets `[hidden] { display: none; }` but bootstrap.min.css set `[hidden] { display: none !important; }` so we also need the `!important` here to be able to override the default hidden behavior on the sphinx rendered scikit-learn.org. See: https://github.com/scikit-learn/scikit-learn/issues/21755 */display: inline-block !important;position: relative;}#sk-container-id-1 div.sk-text-repr-fallback {display: none;}</style><div id=\"sk-container-id-1\" class=\"sk-top-container\"><div class=\"sk-text-repr-fallback\"><pre>KNeighborsClassifier(n_jobs=-1, n_neighbors=3)</pre><b>In a Jupyter environment, please rerun this cell to show the HTML representation or trust the notebook. <br />On GitHub, the HTML representation is unable to render, please try loading this page with nbviewer.org.</b></div><div class=\"sk-container\" hidden><div class=\"sk-item\"><div class=\"sk-estimator sk-toggleable\"><input class=\"sk-toggleable__control sk-hidden--visually\" id=\"sk-estimator-id-1\" type=\"checkbox\" checked><label for=\"sk-estimator-id-1\" class=\"sk-toggleable__label sk-toggleable__label-arrow\">KNeighborsClassifier</label><div class=\"sk-toggleable__content\"><pre>KNeighborsClassifier(n_jobs=-1, n_neighbors=3)</pre></div></div></div></div></div>"
            ]
          },
          "metadata": {},
          "execution_count": 5
        }
      ]
    },
    {
      "cell_type": "code",
      "source": [
        "y.head"
      ],
      "metadata": {
        "colab": {
          "base_uri": "https://localhost:8080/",
          "height": 186
        },
        "id": "yslif7sqUGae",
        "outputId": "056f9156-2dd1-4182-9257-e655c006eaaf"
      },
      "execution_count": null,
      "outputs": [
        {
          "output_type": "execute_result",
          "data": {
            "text/plain": [
              "<bound method NDFrame.head of 829    0\n",
              "649    0\n",
              "666    0\n",
              "604    0\n",
              "297    0\n",
              "      ..\n",
              "122    2\n",
              "13     2\n",
              "116    2\n",
              "22     2\n",
              "15     2\n",
              "Name: pef_zone, Length: 984, dtype: int64>"
            ],
            "text/html": [
              "<div style=\"max-width:800px; border: 1px solid var(--colab-border-color);\"><style>\n",
              "      pre.function-repr-contents {\n",
              "        overflow-x: auto;\n",
              "        padding: 8px 12px;\n",
              "        max-height: 500px;\n",
              "      }\n",
              "\n",
              "      pre.function-repr-contents.function-repr-contents-collapsed {\n",
              "        cursor: pointer;\n",
              "        max-height: 100px;\n",
              "      }\n",
              "    </style>\n",
              "    <pre style=\"white-space: initial; background:\n",
              "         var(--colab-secondary-surface-color); padding: 8px 12px;\n",
              "         border-bottom: 1px solid var(--colab-border-color);\"><b>pandas.core.generic.NDFrame.head</b><br/>def head(n: int=5) -&gt; NDFrameT</pre><pre class=\"function-repr-contents function-repr-contents-collapsed\" style=\"\"><a class=\"filepath\" style=\"display:none\" href=\"#\">/usr/local/lib/python3.10/dist-packages/pandas/core/generic.py</a>Return the first `n` rows.\n",
              "\n",
              "This function returns the first `n` rows for the object based\n",
              "on position. It is useful for quickly testing if your object\n",
              "has the right type of data in it.\n",
              "\n",
              "For negative values of `n`, this function returns all rows except\n",
              "the last `|n|` rows, equivalent to ``df[:n]``.\n",
              "\n",
              "If n is larger than the number of rows, this function returns all rows.\n",
              "\n",
              "Parameters\n",
              "----------\n",
              "n : int, default 5\n",
              "    Number of rows to select.\n",
              "\n",
              "Returns\n",
              "-------\n",
              "same type as caller\n",
              "    The first `n` rows of the caller object.\n",
              "\n",
              "See Also\n",
              "--------\n",
              "DataFrame.tail: Returns the last `n` rows.\n",
              "\n",
              "Examples\n",
              "--------\n",
              "&gt;&gt;&gt; df = pd.DataFrame({&#x27;animal&#x27;: [&#x27;alligator&#x27;, &#x27;bee&#x27;, &#x27;falcon&#x27;, &#x27;lion&#x27;,\n",
              "...                    &#x27;monkey&#x27;, &#x27;parrot&#x27;, &#x27;shark&#x27;, &#x27;whale&#x27;, &#x27;zebra&#x27;]})\n",
              "&gt;&gt;&gt; df\n",
              "      animal\n",
              "0  alligator\n",
              "1        bee\n",
              "2     falcon\n",
              "3       lion\n",
              "4     monkey\n",
              "5     parrot\n",
              "6      shark\n",
              "7      whale\n",
              "8      zebra\n",
              "\n",
              "Viewing the first 5 lines\n",
              "\n",
              "&gt;&gt;&gt; df.head()\n",
              "      animal\n",
              "0  alligator\n",
              "1        bee\n",
              "2     falcon\n",
              "3       lion\n",
              "4     monkey\n",
              "\n",
              "Viewing the first `n` lines (three in this case)\n",
              "\n",
              "&gt;&gt;&gt; df.head(3)\n",
              "      animal\n",
              "0  alligator\n",
              "1        bee\n",
              "2     falcon\n",
              "\n",
              "For negative values of `n`\n",
              "\n",
              "&gt;&gt;&gt; df.head(-3)\n",
              "      animal\n",
              "0  alligator\n",
              "1        bee\n",
              "2     falcon\n",
              "3       lion\n",
              "4     monkey\n",
              "5     parrot</pre>\n",
              "      <script>\n",
              "      if (google.colab.kernel.accessAllowed && google.colab.files && google.colab.files.view) {\n",
              "        for (const element of document.querySelectorAll('.filepath')) {\n",
              "          element.style.display = 'block'\n",
              "          element.onclick = (event) => {\n",
              "            event.preventDefault();\n",
              "            event.stopPropagation();\n",
              "            google.colab.files.view(element.textContent, 5559);\n",
              "          };\n",
              "        }\n",
              "      }\n",
              "      for (const element of document.querySelectorAll('.function-repr-contents')) {\n",
              "        element.onclick = (event) => {\n",
              "          event.preventDefault();\n",
              "          event.stopPropagation();\n",
              "          element.classList.toggle('function-repr-contents-collapsed');\n",
              "        };\n",
              "      }\n",
              "      </script>\n",
              "      </div>"
            ]
          },
          "metadata": {},
          "execution_count": 6
        }
      ]
    },
    {
      "cell_type": "code",
      "source": [
        "y_train_pred = neigh.predict_proba(train_X)\n",
        "y_test_pred = neigh.predict_proba(test_X)\n",
        "train_auc = roc_auc_score(train_y, y_train_pred, multi_class='ovr')\n",
        "test_auc = roc_auc_score(test_y, y_test_pred, multi_class='ovr')\n",
        "print(f'Train AUC: {train_auc}, Test AUC: {test_auc}')\n"
      ],
      "metadata": {
        "colab": {
          "base_uri": "https://localhost:8080/"
        },
        "id": "916UzNMlRg8D",
        "outputId": "48cba881-cbbf-42ab-8d5c-37bcabc1fc6f"
      },
      "execution_count": null,
      "outputs": [
        {
          "output_type": "stream",
          "name": "stdout",
          "text": [
            "Train AUC: 0.9700029306246555, Test AUC: 0.9125833289520076\n"
          ]
        }
      ]
    },
    {
      "cell_type": "code",
      "source": [
        "from sklearn.metrics import accuracy_score, precision_score, recall_score, f1_score, confusion_matrix\n",
        "\n",
        "# First, we need to get the predicted classes\n",
        "y_train_pred_classes = np.argmax(y_train_pred, axis=1)\n",
        "y_test_pred_classes = np.argmax(y_test_pred, axis=1)\n",
        "\n",
        "# Compute accuracy\n",
        "train_accuracy = accuracy_score(train_y, y_train_pred_classes)\n",
        "test_accuracy = accuracy_score(test_y, y_test_pred_classes)\n",
        "\n",
        "# Compute precision\n",
        "train_precision = precision_score(train_y, y_train_pred_classes, average='macro')\n",
        "test_precision = precision_score(test_y, y_test_pred_classes, average='macro')\n",
        "\n",
        "# Compute recall\n",
        "train_recall = recall_score(train_y, y_train_pred_classes, average='macro')\n",
        "test_recall = recall_score(test_y, y_test_pred_classes, average='macro')\n",
        "\n",
        "# Compute F1 score\n",
        "train_f1 = f1_score(train_y, y_train_pred_classes, average='macro')\n",
        "test_f1 = f1_score(test_y, y_test_pred_classes, average='macro')\n",
        "\n",
        "# Compute confusion matrix\n",
        "train_cm = confusion_matrix(train_y, y_train_pred_classes)\n",
        "test_cm = confusion_matrix(test_y, y_test_pred_classes)\n",
        "\n",
        "# Print the metrics\n",
        "print(f'Train Accuracy: {train_accuracy}, Test Accuracy: {test_accuracy}')\n",
        "print(f'Train Precision: {train_precision}, Test Precision: {test_precision}')\n",
        "print(f'Train Recall: {train_recall}, Test Recall: {test_recall}')\n",
        "print(f'Train F1 Score: {train_f1}, Test F1 Score: {test_f1}')\n",
        "print(f'Train Confusion Matrix:\\n {train_cm}')\n",
        "print(f'Test Confusion Matrix:\\n {test_cm}')\n"
      ],
      "metadata": {
        "colab": {
          "base_uri": "https://localhost:8080/"
        },
        "id": "BWmJYmKjRir_",
        "outputId": "15fb76bb-d14e-44b9-abef-835b005f1daf"
      },
      "execution_count": null,
      "outputs": [
        {
          "output_type": "stream",
          "name": "stdout",
          "text": [
            "Train Accuracy: 0.8691232528589581, Test Accuracy: 0.8223350253807107\n",
            "Train Precision: 0.8682943233790693, Test Precision: 0.8220230473751601\n",
            "Train Recall: 0.8752204109539746, Test Recall: 0.8248511904761905\n",
            "Train F1 Score: 0.8711620886983945, Test F1 Score: 0.8208528250932002\n",
            "Train Confusion Matrix:\n",
            " [[192  40   4]\n",
            " [ 48 255  11]\n",
            " [  0   0 237]]\n",
            "Test Confusion Matrix:\n",
            " [[45 17  2]\n",
            " [10 54  6]\n",
            " [ 0  0 63]]\n"
          ]
        }
      ]
    },
    {
      "cell_type": "code",
      "source": [
        "import matplotlib.pyplot as plt\n",
        "from sklearn.metrics import confusion_matrix\n",
        "import seaborn as sns\n",
        "\n",
        "\n",
        "# Create a figure and a set of subplots\n",
        "fig, ax = plt.subplots()\n",
        "\n",
        "# Create a heatmap\n",
        "sns.heatmap(train_cm, annot=True, fmt='d', ax=ax, cmap=plt.cm.Blues, cbar=False)\n",
        "\n",
        "# Set labels\n",
        "ax.set_xlabel('Predicted')\n",
        "ax.set_ylabel('True')\n",
        "ax.set_title('Confusion Matrix')\n",
        "\n",
        "# Set tick labels\n",
        "ax.xaxis.set_ticklabels(['Green', 'Yellow', 'Red'])\n",
        "ax.yaxis.set_ticklabels(['Green', 'Yellow', 'Red'])\n",
        "\n",
        "# Display the plot\n",
        "plt.show()"
      ],
      "metadata": {
        "colab": {
          "base_uri": "https://localhost:8080/",
          "height": 472
        },
        "id": "t-LqSGR6ZG_J",
        "outputId": "c0ddd170-36e5-431f-a90a-2d8421fbdac0"
      },
      "execution_count": null,
      "outputs": [
        {
          "output_type": "display_data",
          "data": {
            "text/plain": [
              "<Figure size 640x480 with 1 Axes>"
            ],
            "image/png": "[encoded data removed]"
          },
          "metadata": {}
        }
      ]
    },
    {
      "cell_type": "code",
      "source": [
        "import matplotlib.pyplot as plt\n",
        "from sklearn.metrics import confusion_matrix\n",
        "import seaborn as sns\n",
        "\n",
        "\n",
        "# Create a figure and a set of subplots\n",
        "fig, ax = plt.subplots()\n",
        "\n",
        "# Create a heatmap\n",
        "sns.heatmap(test_cm, annot=True, fmt='d', ax=ax, cmap=plt.cm.Blues, cbar=False)\n",
        "\n",
        "# Set labels\n",
        "ax.set_xlabel('Predicted')\n",
        "ax.set_ylabel('True')\n",
        "ax.set_title('Confusion Matrix')\n",
        "\n",
        "# Set tick labels\n",
        "ax.xaxis.set_ticklabels(['Green', 'Yellow', 'Red'])\n",
        "ax.yaxis.set_ticklabels(['Green', 'Yellow', 'Red'])\n",
        "\n",
        "# Display the plot\n",
        "plt.show()"
      ],
      "metadata": {
        "colab": {
          "base_uri": "https://localhost:8080/",
          "height": 472
        },
        "id": "Pv2cA310ZPVZ",
        "outputId": "b1115048-8aad-4b9f-b5a6-d2bfe6634d40"
      },
      "execution_count": null,
      "outputs": [
        {
          "output_type": "display_data",
          "data": {
            "text/plain": [
              "<Figure size 640x480 with 1 Axes>"
            ],
            "image/png": "[encoded data removed]"
          },
          "metadata": {}
        }
      ]
    },
    {
      "cell_type": "code",
      "source": [
        "!pip install sklite\n"
      ],
      "metadata": {
        "colab": {
          "base_uri": "https://localhost:8080/"
        },
        "id": "pXSC5gCGYo7K",
        "outputId": "ed48777d-2b13-4d03-aa61-b21e476a44e1"
      },
      "execution_count": null,
      "outputs": [
        {
          "output_type": "stream",
          "name": "stdout",
          "text": [
            "Collecting sklite\n",
            "  Downloading sklite-0.0.2-py3-none-any.whl (11 kB)\n",
            "Installing collected packages: sklite\n",
            "Successfully installed sklite-0.0.2\n"
          ]
        }
      ]
    },
    {
      "cell_type": "code",
      "source": [
        "# from sklite import LazyExport\n",
        "\n",
        "# # Assuming 'neigh' is your trained model\n",
        "# lazy = LazyExport(neigh)\n",
        "# lazy.save('knn_model.json')"
      ],
      "metadata": {
        "id": "-sH-WnZrYuoz"
      },
      "execution_count": null,
      "outputs": []
    },
    {
      "cell_type": "code",
      "source": [
        "\n"
      ],
      "metadata": {
        "id": "SMfkroPeZwnt"
      },
      "execution_count": null,
      "outputs": []
    },
    {
      "cell_type": "code",
      "source": [
        "\n",
        "# y_train_pred = rf.predict(train_X)\n",
        "# y_test_pred = rf.predict(test_X)\n",
        "\n",
        "# train_accuracy = accuracy_score(train_y, y_train_pred)\n",
        "# test_accuracy = accuracy_score(test_y, y_test_pred)\n",
        "\n",
        "# print(f'Train Accuracy: {train_accuracy}, Test Accuracy: {test_accuracy}')\n"
      ],
      "metadata": {
        "id": "_xgicA5raEKB"
      },
      "execution_count": null,
      "outputs": []
    },
    {
      "cell_type": "code",
      "source": [
        "from sklearn.metrics import accuracy_score, precision_score, recall_score, f1_score, confusion_matrix\n",
        "from sklearn.metrics import accuracy_score\n",
        "from sklearn.ensemble import RandomForestClassifier\n",
        "rf = RandomForestClassifier(n_estimators=200, random_state=1337)\n",
        "rf.fit(train_X, train_y)\n",
        "\n",
        "y_train_pred = rf.predict(train_X)\n",
        "y_test_pred = rf.predict(test_X)\n",
        "train_accuracy = accuracy_score(train_y, y_train_pred)\n",
        "test_accuracy = accuracy_score(test_y, y_test_pred)\n",
        "train_precision = precision_score(train_y, y_train_pred, average='macro')\n",
        "test_precision = precision_score(test_y, y_test_pred, average='macro')\n",
        "\n",
        "train_recall = recall_score(train_y, y_train_pred, average='macro')\n",
        "test_recall = recall_score(test_y, y_test_pred, average='macro')\n",
        "\n",
        "train_f1 = f1_score(train_y, y_train_pred, average='macro')\n",
        "test_f1 = f1_score(test_y, y_test_pred, average='macro')\n",
        "\n",
        "train_cm = confusion_matrix(train_y, y_train_pred)\n",
        "test_cm = confusion_matrix(test_y, y_test_pred)\n",
        "\n",
        "print(f'Train Accuracy: {train_accuracy}, Test Accuracy: {test_accuracy}')\n",
        "print(f'Train Precision: {train_precision}, Test Precision: {test_precision}')\n",
        "print(f'Train Recall: {train_recall}, Test Recall: {test_recall}')\n",
        "print(f'Train F1 Score: {train_f1}, Test F1 Score: {test_f1}')\n",
        "print(f'Train Confusion Matrix:\\n {train_cm}')\n",
        "print(f'Test Confusion Matrix:\\n {test_cm}')\n"
      ],
      "metadata": {
        "id": "hkRXho1QaL4E",
        "colab": {
          "base_uri": "https://localhost:8080/"
        },
        "outputId": "c19f38d5-ba80-4974-f2b4-09388d0940da"
      },
      "execution_count": null,
      "outputs": [
        {
          "output_type": "stream",
          "name": "stdout",
          "text": [
            "Train Accuracy: 1.0, Test Accuracy: 0.9238578680203046\n",
            "Train Precision: 1.0, Test Precision: 0.9237477385798281\n",
            "Train Recall: 1.0, Test Recall: 0.9258928571428572\n",
            "Train F1 Score: 1.0, Test F1 Score: 0.9245017116505404\n",
            "Train Confusion Matrix:\n",
            " [[236   0   0]\n",
            " [  0 314   0]\n",
            " [  0   0 237]]\n",
            "Test Confusion Matrix:\n",
            " [[58  6  0]\n",
            " [ 6 61  3]\n",
            " [ 0  0 63]]\n"
          ]
        }
      ]
    },
    {
      "cell_type": "code",
      "source": [
        "import matplotlib.pyplot as plt\n",
        "from sklearn.metrics import confusion_matrix\n",
        "import seaborn as sns\n",
        "\n",
        "\n",
        "# Create a figure and a set of subplots\n",
        "fig, ax = plt.subplots()\n",
        "\n",
        "# Create a heatmap\n",
        "sns.heatmap(train_cm, annot=True, fmt='d', ax=ax, cmap=plt.cm.Blues, cbar=False)\n",
        "\n",
        "# Set labels\n",
        "ax.set_xlabel('Predicted')\n",
        "ax.set_ylabel('True')\n",
        "ax.set_title('Confusion Matrix')\n",
        "\n",
        "# Set tick labels\n",
        "ax.xaxis.set_ticklabels(['Green', 'Yellow', 'Red'])\n",
        "ax.yaxis.set_ticklabels(['Green', 'Yellow', 'Red'])\n",
        "\n",
        "# Display the plot\n",
        "plt.show()"
      ],
      "metadata": {
        "id": "zKIWtdUqbLlL",
        "colab": {
          "base_uri": "https://localhost:8080/",
          "height": 472
        },
        "outputId": "c0a59e93-7da1-43f5-fa04-be580b192210"
      },
      "execution_count": null,
      "outputs": [
        {
          "output_type": "display_data",
          "data": {
            "text/plain": [
              "<Figure size 640x480 with 1 Axes>"
            ],
            "image/png": "[encoded data removed]"
          },
          "metadata": {}
        }
      ]
    },
    {
      "cell_type": "code",
      "source": [
        "import matplotlib.pyplot as plt\n",
        "from sklearn.metrics import confusion_matrix\n",
        "import seaborn as sns\n",
        "\n",
        "\n",
        "# Create a figure and a set of subplots\n",
        "fig, ax = plt.subplots()\n",
        "\n",
        "# Create a heatmap\n",
        "sns.heatmap(test_cm, annot=True, fmt='d', ax=ax, cmap=plt.cm.Blues, cbar=False)\n",
        "\n",
        "# Set labels\n",
        "ax.set_xlabel('Predicted')\n",
        "ax.set_ylabel('True')\n",
        "ax.set_title('Confusion Matrix')\n",
        "\n",
        "# Set tick labels\n",
        "ax.xaxis.set_ticklabels(['Green', 'Yellow', 'Red'])\n",
        "ax.yaxis.set_ticklabels(['Green', 'Yellow', 'Red'])\n",
        "\n",
        "# Display the plot\n",
        "plt.show()"
      ],
      "metadata": {
        "id": "ORB7WkU5bNw-",
        "colab": {
          "base_uri": "https://localhost:8080/",
          "height": 472
        },
        "outputId": "026af49e-5f2f-41d6-d515-031825123d61"
      },
      "execution_count": null,
      "outputs": [
        {
          "output_type": "display_data",
          "data": {
            "text/plain": [
              "<Figure size 640x480 with 1 Axes>"
            ],
            "image/png": "[encoded data removed]"
          },
          "metadata": {}
        }
      ]
    },
    {
      "cell_type": "code",
      "source": [
        "# from sklite import LazyExport\n",
        "\n",
        "# lazy = LazyExport(rf)\n",
        "# lazy.save('rf_model.json')"
      ],
      "metadata": {
        "id": "uea_q-jmRmME"
      },
      "execution_count": null,
      "outputs": []
    },
    {
      "cell_type": "code",
      "source": [
        "from sklearn.ensemble import RandomForestClassifier\n",
        "from sklearn.model_selection import cross_validate\n",
        "from sklearn.metrics import make_scorer, accuracy_score, precision_score, recall_score, f1_score, confusion_matrix\n",
        "scoring = {\n",
        "    'accuracy': make_scorer(accuracy_score),\n",
        "    'precision': make_scorer(precision_score, average='macro'),\n",
        "    'recall': make_scorer(recall_score, average='macro'),\n",
        "    'f1_score': make_scorer(f1_score, average='macro')\n",
        "}\n",
        "# Assuming 'rf' is your trained model\n",
        "cv_results = cross_validate(rf, X, y, cv=10, scoring=scoring)\n",
        "for metric in scoring.keys():\n",
        "    scores = cv_results['test_' + metric]\n",
        "    print(f'{metric.capitalize()}: {scores.mean():.2f} (+/- {scores.std() * 2:.2f})')\n"
      ],
      "metadata": {
        "id": "NJ7C2ibRd_aX",
        "colab": {
          "base_uri": "https://localhost:8080/"
        },
        "outputId": "581c1dfc-d0f9-4bae-d721-4d0fc93eee3f"
      },
      "execution_count": null,
      "outputs": [
        {
          "output_type": "stream",
          "name": "stdout",
          "text": [
            "Accuracy: 0.84 (+/- 0.24)\n",
            "Precision: 0.87 (+/- 0.20)\n",
            "Recall: 0.86 (+/- 0.21)\n",
            "F1_score: 0.84 (+/- 0.25)\n"
          ]
        }
      ]
    },
    {
      "cell_type": "code",
      "source": [
        "# from sklearn.ensemble import RandomForestClassifier\n",
        "# from sklearn.model_selection import RandomizedSearchCV\n",
        "# param_grid = {\n",
        "#     'n_estimators': [10, 50, 100, 200, 500],\n",
        "#     'random_state': [0, 1, 42, 123, 1337]\n",
        "# }\n",
        "# random_search = RandomizedSearchCV(rf, param_distributions=param_grid, cv=10, n_iter=25, random_state=0)\n",
        "# random_search.fit(X, y)\n"
      ],
      "metadata": {
        "id": "1n67aIWbeL7V"
      },
      "execution_count": null,
      "outputs": []
    },
    {
      "cell_type": "code",
      "source": [
        "# # Print the best parameters\n",
        "# best_params = random_search.best_params_\n",
        "# print('Best Parameters:', best_params)\n"
      ],
      "metadata": {
        "id": "NmxiczqujwmR"
      },
      "execution_count": null,
      "outputs": []
    },
    {
      "cell_type": "code",
      "source": [
        "# # Print the best score\n",
        "# best_score = random_search.best_score_\n",
        "# print('Best Score:', best_score)\n"
      ],
      "metadata": {
        "id": "akAJ2AzgkHY0"
      },
      "execution_count": null,
      "outputs": []
    },
    {
      "cell_type": "code",
      "source": [
        "from sklearn.model_selection import cross_val_score\n",
        "from sklearn.neighbors import KNeighborsClassifier\n",
        "from sklearn.tree import DecisionTreeClassifier\n",
        "from sklearn.ensemble import RandomForestClassifier\n",
        "from sklearn.ensemble import GradientBoostingClassifier\n",
        "from sklearn.metrics import make_scorer, precision_score, recall_score, f1_score\n",
        "\n",
        "def compare_models(X, y):\n",
        "    # Define the models\n",
        "    models = [\n",
        "        ('kNN', KNeighborsClassifier()),\n",
        "        ('Decision Tree', DecisionTreeClassifier()),\n",
        "        ('Gradient Boost',GradientBoostingClassifier()),\n",
        "        ('Random Forest', RandomForestClassifier())\n",
        "    ]\n",
        "\n",
        "    # Define the metrics\n",
        "    metrics = {\n",
        "        'accuracy': 'accuracy',\n",
        "        'precision': make_scorer(precision_score, average='macro'),\n",
        "        'recall': make_scorer(recall_score, average='macro'),\n",
        "        'f1_score': make_scorer(f1_score, average='macro')\n",
        "    }\n",
        "\n",
        "    # Perform 10-fold cross-validation and print the mean and standard deviation for each metric\n",
        "    for name, model in models:\n",
        "        print(name)\n",
        "        for metric_name, metric in metrics.items():\n",
        "            scores = cross_val_score(model, X, y, cv=10, scoring=metric)\n",
        "            print(f'  {metric_name.capitalize()}: {scores.mean():.2f} (+/- {scores.std() * 2:.2f})')\n",
        "\n",
        "# Call the function with your data\n",
        "compare_models(X, y)\n"
      ],
      "metadata": {
        "id": "vcrmmnBslgTU",
        "colab": {
          "base_uri": "https://localhost:8080/"
        },
        "outputId": "951a7046-dd2f-4a4a-deb9-380845a1ebf6"
      },
      "execution_count": null,
      "outputs": [
        {
          "output_type": "stream",
          "name": "stdout",
          "text": [
            "kNN\n",
            "  Accuracy: 0.73 (+/- 0.14)\n",
            "  Precision: 0.74 (+/- 0.13)\n",
            "  Recall: 0.75 (+/- 0.12)\n",
            "  F1_score: 0.73 (+/- 0.13)\n",
            "Decision Tree\n",
            "  Accuracy: 0.79 (+/- 0.17)\n",
            "  Precision: 0.83 (+/- 0.15)\n",
            "  Recall: 0.82 (+/- 0.15)\n",
            "  F1_score: 0.80 (+/- 0.19)\n",
            "Gradient Boost\n",
            "  Accuracy: 0.81 (+/- 0.22)\n",
            "  Precision: 0.83 (+/- 0.19)\n",
            "  Recall: 0.83 (+/- 0.19)\n",
            "  F1_score: 0.81 (+/- 0.23)\n",
            "Random Forest\n",
            "  Accuracy: 0.84 (+/- 0.23)\n",
            "  Precision: 0.87 (+/- 0.21)\n",
            "  Recall: 0.86 (+/- 0.19)\n",
            "  F1_score: 0.84 (+/- 0.25)\n"
          ]
        }
      ]
    },
    {
      "cell_type": "code",
      "source": [
        "\n",
        "# cross_model = RandomForestClassifier(n_estimators=200, random_state=1337)\n",
        "# scores = cross_val_score(cross_model, X, y, cv=10)\n",
        "# print('Scores:', scores)\n",
        "# print('Mean:', scores.mean())\n",
        "# print('Standard Deviation:', scores.std())\n",
        "# sklite = SkLite(cross_model)\n",
        "# lazy.save('cross_rf.json')"
      ],
      "metadata": {
        "id": "eUI2Q6vLmovs"
      },
      "execution_count": null,
      "outputs": []
    },
    {
      "cell_type": "code",
      "source": [
        "%pip install sklite"
      ],
      "metadata": {
        "colab": {
          "base_uri": "https://localhost:8080/"
        },
        "id": "4POGiIM63aTO",
        "outputId": "81119ec8-d460-4c06-97ec-f92efb1fe5c6"
      },
      "execution_count": null,
      "outputs": [
        {
          "output_type": "stream",
          "name": "stdout",
          "text": [
            "Requirement already satisfied: sklite in /usr/local/lib/python3.10/dist-packages (0.0.2)\n"
          ]
        }
      ]
    }
  ]
}